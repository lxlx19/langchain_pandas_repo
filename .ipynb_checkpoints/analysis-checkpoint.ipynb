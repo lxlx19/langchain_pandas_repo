{
 "cells": [
  {
   "cell_type": "markdown",
   "id": "3823d38b-1ea8-43d7-85c8-4039629be4c5",
   "metadata": {},
   "source": [
    "# Importar Bibliotecas"
   ]
  },
  {
   "cell_type": "code",
   "execution_count": null,
   "id": "dad49b7a-c146-4f48-9ebe-7a29edf2f85e",
   "metadata": {
    "tags": []
   },
   "outputs": [],
   "source": [
    "import pandas as pd\n",
    "from langchain.llms import OpenAI\n",
    "from langchain.agents import create_pandas_dataframe_agent\n",
    "from dotenv import load_dotenv, find_dotenv"
   ]
  },
  {
   "cell_type": "code",
   "execution_count": null,
   "id": "87e144b1-03bd-44f0-916d-56545ef7a1b4",
   "metadata": {
    "tags": []
   },
   "outputs": [],
   "source": [
    "# Ler a Chave da API\n",
    "load_dotenv(find_dotenv())"
   ]
  },
  {
   "cell_type": "code",
   "execution_count": null,
   "id": "7a08bd12-8e86-4efe-99de-bed33c54344b",
   "metadata": {
    "tags": []
   },
   "outputs": [],
   "source": [
    "# Carregar o dataframe\n",
    "data = pd.read_csv('icecream.csv')\n",
    "data.head()"
   ]
  },
  {
   "cell_type": "markdown",
   "id": "282e6f15-c606-43b9-bac3-37fd05d0f707",
   "metadata": {},
   "source": [
    "## OpenAI(temperature=0)"
   ]
  },
  {
   "cell_type": "markdown",
   "id": "ca111f9d-6108-4a84-b776-5adc176af8b4",
   "metadata": {
    "tags": []
   },
   "source": [
    "O parâmetro ___\"temperature\"___ controla a aleatoriedade das respostas do modelo de linguagem GPT\n",
    "\n",
    "Quando o valor de ___\"temperature\"___ é menor, como 0, as respostas tendem a ser mais determinísticas e conservadoras. O modelo selecionará palavras com maior probabilidade e _provavelmente_ respostas mais seguras e repetitivas\n",
    "\n",
    "Quando o valor de ___\"temperature\"___ é maior, como 1, as respostas tendem a ser mais aleatórias e criativas. O modelo terá maior liberdade para selecionar palavras com menor probabilidade, resultando em respostas mais diversas e surpreendentes."
   ]
  },
  {
   "cell_type": "code",
   "execution_count": null,
   "id": "fa37a87e-9824-43a2-81e0-71090c1d9f9e",
   "metadata": {
    "tags": []
   },
   "outputs": [],
   "source": [
    "# Criar agent da GPT\n",
    "agent = create_pandas_dataframe_agent(OpenAI(temperature=0), data, verbose=True)"
   ]
  },
  {
   "cell_type": "code",
   "execution_count": null,
   "id": "c5dcdc9e-4fbb-4203-81d0-0165c8f225fc",
   "metadata": {
    "tags": []
   },
   "outputs": [],
   "source": [
    "agent.run(\"Qual o ticket médio por cliente?\")"
   ]
  },
  {
   "cell_type": "code",
   "execution_count": null,
   "id": "de815bad-5358-4a5b-b318-cf0d00e12409",
   "metadata": {},
   "outputs": [],
   "source": []
  }
 ],
 "metadata": {
  "kernelspec": {
   "display_name": "Python 3 (ipykernel)",
   "language": "python",
   "name": "python3"
  },
  "language_info": {
   "codemirror_mode": {
    "name": "ipython",
    "version": 3
   },
   "file_extension": ".py",
   "mimetype": "text/x-python",
   "name": "python",
   "nbconvert_exporter": "python",
   "pygments_lexer": "ipython3",
   "version": "3.10.10"
  }
 },
 "nbformat": 4,
 "nbformat_minor": 5
}
